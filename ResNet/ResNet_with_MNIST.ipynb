{
  "nbformat": 4,
  "nbformat_minor": 0,
  "metadata": {
    "colab": {
      "provenance": [],
      "gpuType": "T4"
    },
    "kernelspec": {
      "name": "python3",
      "display_name": "Python 3"
    },
    "language_info": {
      "name": "python"
    },
    "accelerator": "GPU"
  },
  "cells": [
    {
      "cell_type": "code",
      "execution_count": null,
      "metadata": {
        "id": "ohw_p6P4lHCO"
      },
      "outputs": [],
      "source": [
        "import torch\n",
        "import torch.nn as nn\n",
        "import torch.nn.functional as F\n",
        "import torch.optim as optim\n",
        "from torch.utils.data import DataLoader, Dataset\n",
        "from torchvision import datasets\n",
        "from torchvision import transforms\n",
        "import matplotlib.pyplot as plt"
      ]
    },
    {
      "cell_type": "code",
      "source": [
        "transform = transforms.Compose([\n",
        "    transforms.Resize((32, 32)),\n",
        "    transforms.ToTensor(),\n",
        "    transforms.Normalize((0.5,), (0.5,))])\n",
        "\n",
        "batch_size = 64\n",
        "trainset = datasets.MNIST(root='./data/', train=True, download=True, transform=transform)\n",
        "trainloader = DataLoader(trainset, batch_size=batch_size, shuffle=True, num_workers=2)\n",
        "\n",
        "testset = datasets.MNIST(root='./data/', train=False, download=True, transform=transform)\n",
        "testloader = DataLoader(testset, batch_size=batch_size, shuffle=False, num_workers=2)"
      ],
      "metadata": {
        "id": "8LHYFlhpFVD_"
      },
      "execution_count": null,
      "outputs": []
    },
    {
      "cell_type": "code",
      "source": [
        "straight_digits = [1, 4, 7]\n",
        "\n",
        "def get_aux_labels(label):\n",
        "  if label in straight_digits:\n",
        "    return 1\n",
        "  else:\n",
        "    return 0\n",
        "\n",
        "class CustomMNIST(Dataset):\n",
        "  def __init__(self, mnist_dataset):\n",
        "    self.mnist_dataset = mnist_dataset\n",
        "\n",
        "  def __len__(self):\n",
        "    return len(self.mnist_dataset)\n",
        "\n",
        "  def __getitem__(self, idx):\n",
        "    image, origin_label = self.mnist_dataset[idx]\n",
        "    aux_label = get_aux_labels(origin_label)\n",
        "    return image, (origin_label, aux_label)"
      ],
      "metadata": {
        "id": "wcnlcZ_PhyAZ"
      },
      "execution_count": null,
      "outputs": []
    },
    {
      "cell_type": "code",
      "source": [
        "custom_dataset = CustomMNIST(trainset)\n",
        "\n",
        "for i in range(3):\n",
        "    image, (original_label, aux_label) = custom_dataset[i]\n",
        "    print(f'Mẫu {i}: Nhãn gốc = {original_label}, Nhãn phụ = {aux_label}')"
      ],
      "metadata": {
        "colab": {
          "base_uri": "https://localhost:8080/"
        },
        "id": "gSvyjnBajbeV",
        "outputId": "19422526-aaa5-486f-b062-8781e2afbc0b"
      },
      "execution_count": null,
      "outputs": [
        {
          "output_type": "stream",
          "name": "stdout",
          "text": [
            "Mẫu 0: Nhãn gốc = 5, Nhãn phụ = 0\n",
            "Mẫu 1: Nhãn gốc = 0, Nhãn phụ = 0\n",
            "Mẫu 2: Nhãn gốc = 4, Nhãn phụ = 1\n"
          ]
        }
      ]
    },
    {
      "cell_type": "code",
      "source": [
        "custom_trainset = CustomMNIST(trainset)\n",
        "custom_trainloader = DataLoader(custom_trainset, batch_size=batch_size, shuffle=True, num_workers=2)\n",
        "\n",
        "custom_testset = CustomMNIST(testset)\n",
        "custom_testloader = DataLoader(custom_testset, batch_size=batch_size, shuffle=False, num_workers=2)"
      ],
      "metadata": {
        "id": "4lzfVOiRu2TV"
      },
      "execution_count": null,
      "outputs": []
    },
    {
      "cell_type": "code",
      "source": [
        "trainset[1][0].shape"
      ],
      "metadata": {
        "colab": {
          "base_uri": "https://localhost:8080/"
        },
        "id": "uZ5n6kFQGQEn",
        "outputId": "7c965d81-e903-450d-acc9-1512111390d5"
      },
      "execution_count": null,
      "outputs": [
        {
          "output_type": "execute_result",
          "data": {
            "text/plain": [
              "torch.Size([1, 32, 32])"
            ]
          },
          "metadata": {},
          "execution_count": 7
        }
      ]
    },
    {
      "cell_type": "code",
      "source": [
        "image, (original_label, aux_label) = custom_trainset[0]\n",
        "\n",
        "image = image.squeeze()\n",
        "\n",
        "plt.imshow(image, cmap='gray')\n",
        "plt.title(f\"Label: {original_label, aux_label}\")\n",
        "plt.show()\n",
        "\n",
        "print(image.shape)"
      ],
      "metadata": {
        "colab": {
          "base_uri": "https://localhost:8080/",
          "height": 469
        },
        "id": "6bCBuQhVG4F-",
        "outputId": "4ecf9125-4331-43e3-991e-cf908b5ab726"
      },
      "execution_count": null,
      "outputs": [
        {
          "output_type": "display_data",
          "data": {
            "text/plain": [
              "<Figure size 640x480 with 1 Axes>"
            ],
            "image/png": "[encoded data removed]"
          },
          "metadata": {}
        },
        {
          "output_type": "stream",
          "name": "stdout",
          "text": [
            "torch.Size([32, 32])\n"
          ]
        }
      ]
    },
    {
      "cell_type": "code",
      "source": [
        "class BuildingBlock(nn.Module):\n",
        "  def __init__(self, in_channels, out_channels, stride=1):\n",
        "    super(BuildingBlock, self).__init__()\n",
        "\n",
        "    self.conv1 = nn.Conv2d(in_channels, out_channels, kernel_size=3, stride=stride, padding=1, bias=False)\n",
        "    self.bn1 = nn.BatchNorm2d(out_channels)\n",
        "    self.relu = nn.ReLU(inplace=True)\n",
        "\n",
        "    self.conv2 = nn.Conv2d(out_channels, out_channels, kernel_size=3, stride=1, padding=1, bias=False)\n",
        "    self.bn2 = nn.BatchNorm2d(out_channels)\n",
        "\n",
        "    self.shortcut = nn.Identity()\n",
        "    if stride != 1 or in_channels != out_channels:\n",
        "      self.shortcut = nn.Sequential(\n",
        "          nn.Conv2d(in_channels, out_channels, kernel_size=1, stride=stride, padding=0, bias=False),\n",
        "          nn.BatchNorm2d(out_channels)\n",
        "      )\n",
        "\n",
        "  def forward(self, x):\n",
        "    identity = self.shortcut(x)\n",
        "    x = self.conv1(x) #W1 * x\n",
        "    x = self.bn1(x)\n",
        "    x = self.relu(x) #sigma(W1 * x)\n",
        "\n",
        "    x = self.conv2(x) #W2 * sigma(W1 * x) = F(x)\n",
        "    x = self.bn2(x)\n",
        "    x += identity # F(x) + x\n",
        "    x = self.relu(x) #sigma(F(x) + x)\n",
        "    return x"
      ],
      "metadata": {
        "id": "FqGv3JVjfK1n"
      },
      "execution_count": null,
      "outputs": []
    },
    {
      "cell_type": "code",
      "source": [
        "class ResNet34(nn.Module):\n",
        "  def __init__(self, in_channels, out_channels):\n",
        "    super(ResNet34, self).__init__()\n",
        "\n",
        "    self.conv = nn.Conv2d(in_channels=in_channels, out_channels=64, kernel_size=7, stride=2, padding=3, bias=False)\n",
        "    self.bn = nn.BatchNorm2d(64)\n",
        "    self.relu = nn.ReLU(inplace=True)\n",
        "    self.maxpool = nn.MaxPool2d(kernel_size=3, stride=2, padding=1)\n",
        "\n",
        "    self.layer1 = self._make_layer(64, 64, num_blocks=3)\n",
        "    self.layer2 = self._make_layer(64, 128, num_blocks=4, stride=2)\n",
        "    self.layer3 = self._make_layer(128, 256, num_blocks=6, stride=2)\n",
        "    self.layer4 = self._make_layer(256, 512, num_blocks=3, stride=2)\n",
        "\n",
        "    self.avgpool = nn.AdaptiveAvgPool2d((1, 1))\n",
        "    self.fc1 = nn.Linear(512, out_channels)\n",
        "    self.fc2 = nn.Linear(512, 2)\n",
        "\n",
        "  def _make_layer(self, in_channels, out_channels, num_blocks, stride=1):\n",
        "    layers = []\n",
        "    layers.append(BuildingBlock(in_channels, out_channels, stride=stride))\n",
        "    for _ in range(1, num_blocks):\n",
        "      layers.append(BuildingBlock(out_channels, out_channels, stride=1))\n",
        "    return nn.Sequential(*layers)\n",
        "\n",
        "  def forward(self, x):\n",
        "    x = self.conv(x)\n",
        "    x = self.bn(x)\n",
        "    x = self.relu(x)\n",
        "    x = self.maxpool(x)\n",
        "\n",
        "    x = self.layer1(x)\n",
        "    x = self.layer2(x)\n",
        "    x = self.layer3(x)\n",
        "    x = self.layer4(x)\n",
        "\n",
        "    x= self.avgpool(x)\n",
        "    x = torch.flatten(x, 1)\n",
        "    output1 = self.fc1(x)\n",
        "    output2 = self.fc2(x)\n",
        "    return output1, output2"
      ],
      "metadata": {
        "id": "x28aECZrlfAR"
      },
      "execution_count": null,
      "outputs": []
    },
    {
      "cell_type": "code",
      "source": [
        "device = torch.device(\"cuda\" if torch.cuda.is_available() else \"cpu\")\n",
        "model = ResNet34(in_channels=1, out_channels=10).to(device)"
      ],
      "metadata": {
        "id": "q6YHplNmOiIU"
      },
      "execution_count": null,
      "outputs": []
    },
    {
      "cell_type": "code",
      "source": [
        "criterion1 = nn.CrossEntropyLoss()\n",
        "criterion2 = nn.CrossEntropyLoss()\n",
        "optimizer = optim.SGD(model.parameters(), lr=0.1, momentum=0.9, weight_decay=1e-4)\n",
        "scheduler = optim.lr_scheduler.MultiStepLR(optimizer, milestones=[30, 60, 90], gamma=0.1)"
      ],
      "metadata": {
        "id": "DGEBOioEPX38"
      },
      "execution_count": null,
      "outputs": []
    },
    {
      "cell_type": "code",
      "source": [],
      "metadata": {
        "colab": {
          "base_uri": "https://localhost:8080/",
          "height": 141
        },
        "id": "MTBztHWbvZmZ",
        "outputId": "7044272c-1604-4661-bd37-006c4cfe95c4"
      },
      "execution_count": null,
      "outputs": [
        {
          "output_type": "error",
          "ename": "TypeError",
          "evalue": "'DataLoader' object is not subscriptable",
          "traceback": [
            "\u001b[0;31m---------------------------------------------------------------------------\u001b[0m",
            "\u001b[0;31mTypeError\u001b[0m                                 Traceback (most recent call last)",
            "\u001b[0;32m<ipython-input-18-36b5d26c01af>\u001b[0m in \u001b[0;36m<cell line: 0>\u001b[0;34m()\u001b[0m\n\u001b[0;32m----> 1\u001b[0;31m \u001b[0mtrainloader\u001b[0m\u001b[0;34m[\u001b[0m\u001b[0;36m0\u001b[0m\u001b[0;34m]\u001b[0m\u001b[0;34m\u001b[0m\u001b[0;34m\u001b[0m\u001b[0m\n\u001b[0m",
            "\u001b[0;31mTypeError\u001b[0m: 'DataLoader' object is not subscriptable"
          ]
        }
      ]
    },
    {
      "cell_type": "code",
      "source": [
        "num_epochs = 100\n",
        "train_losses = []\n",
        "\n",
        "for epoch in range(num_epochs):\n",
        "    model.train()\n",
        "    running_loss = 0.0\n",
        "\n",
        "    for images, (original_labels, aux_labels) in custom_trainloader:\n",
        "        images = images.to(device)\n",
        "        original_labels = original_labels.to(device)\n",
        "        aux_labels = aux_labels.to(device)\n",
        "\n",
        "        optimizer.zero_grad()\n",
        "        outputs1, outputs2 = model(images)\n",
        "        loss1 = criterion1(outputs1, original_labels)\n",
        "        loss2 = criterion2(outputs2, aux_labels)\n",
        "        loss = loss1 + loss2\n",
        "        loss.backward()\n",
        "        optimizer.step()\n",
        "\n",
        "        running_loss += loss.item()\n",
        "\n",
        "    avg_loss = running_loss / len(trainloader)\n",
        "    train_losses.append(avg_loss)\n",
        "\n",
        "    scheduler.step()\n",
        "\n",
        "    current_lr = optimizer.param_groups[0]['lr']\n",
        "    print(f\"Epoch [{epoch+1}/{num_epochs}], Loss: {avg_loss:.4f}, LR: {current_lr:.6f}\")\n",
        "\n",
        "plt.plot(train_losses, label=\"Train Loss\")\n",
        "plt.xlabel(\"Epoch\")\n",
        "plt.ylabel(\"Loss\")\n",
        "plt.legend()\n",
        "plt.show()"
      ],
      "metadata": {
        "colab": {
          "base_uri": "https://localhost:8080/",
          "height": 1000
        },
        "id": "npVLVudPSVOb",
        "outputId": "01769005-0dbd-41b2-ebeb-c2127e70ab67"
      },
      "execution_count": null,
      "outputs": [
        {
          "output_type": "stream",
          "name": "stdout",
          "text": [
            "Epoch [1/100], Loss: 1.4677, LR: 0.100000\n",
            "Epoch [2/100], Loss: 0.2190, LR: 0.100000\n",
            "Epoch [3/100], Loss: 0.1624, LR: 0.100000\n",
            "Epoch [4/100], Loss: 0.0968, LR: 0.100000\n",
            "Epoch [5/100], Loss: 0.0739, LR: 0.100000\n",
            "Epoch [6/100], Loss: 0.0648, LR: 0.100000\n",
            "Epoch [7/100], Loss: 0.0557, LR: 0.100000\n",
            "Epoch [8/100], Loss: 0.0530, LR: 0.100000\n",
            "Epoch [9/100], Loss: 0.0467, LR: 0.100000\n",
            "Epoch [10/100], Loss: 0.0449, LR: 0.100000\n",
            "Epoch [11/100], Loss: 0.0444, LR: 0.100000\n",
            "Epoch [12/100], Loss: 0.0418, LR: 0.100000\n",
            "Epoch [13/100], Loss: 0.0425, LR: 0.100000\n",
            "Epoch [14/100], Loss: 0.0414, LR: 0.100000\n",
            "Epoch [15/100], Loss: 0.0360, LR: 0.100000\n",
            "Epoch [16/100], Loss: 0.0363, LR: 0.100000\n",
            "Epoch [17/100], Loss: 0.0380, LR: 0.100000\n",
            "Epoch [18/100], Loss: 0.0389, LR: 0.100000\n",
            "Epoch [19/100], Loss: 0.0318, LR: 0.100000\n",
            "Epoch [20/100], Loss: 0.0308, LR: 0.100000\n",
            "Epoch [21/100], Loss: 0.0388, LR: 0.100000\n",
            "Epoch [22/100], Loss: 0.0318, LR: 0.100000\n",
            "Epoch [23/100], Loss: 0.0322, LR: 0.100000\n",
            "Epoch [24/100], Loss: 0.0332, LR: 0.100000\n",
            "Epoch [25/100], Loss: 0.0322, LR: 0.100000\n",
            "Epoch [26/100], Loss: 0.0327, LR: 0.100000\n",
            "Epoch [27/100], Loss: 0.0301, LR: 0.100000\n",
            "Epoch [28/100], Loss: 0.0310, LR: 0.100000\n",
            "Epoch [29/100], Loss: 0.0319, LR: 0.100000\n",
            "Epoch [30/100], Loss: 0.0284, LR: 0.010000\n",
            "Epoch [31/100], Loss: 0.0104, LR: 0.010000\n",
            "Epoch [32/100], Loss: 0.0051, LR: 0.010000\n",
            "Epoch [33/100], Loss: 0.0037, LR: 0.010000\n",
            "Epoch [34/100], Loss: 0.0030, LR: 0.010000\n",
            "Epoch [35/100], Loss: 0.0026, LR: 0.010000\n",
            "Epoch [36/100], Loss: 0.0022, LR: 0.010000\n",
            "Epoch [37/100], Loss: 0.0021, LR: 0.010000\n",
            "Epoch [38/100], Loss: 0.0019, LR: 0.010000\n",
            "Epoch [39/100], Loss: 0.0016, LR: 0.010000\n",
            "Epoch [40/100], Loss: 0.0014, LR: 0.010000\n",
            "Epoch [41/100], Loss: 0.0013, LR: 0.010000\n",
            "Epoch [42/100], Loss: 0.0011, LR: 0.010000\n",
            "Epoch [43/100], Loss: 0.0012, LR: 0.010000\n",
            "Epoch [44/100], Loss: 0.0011, LR: 0.010000\n",
            "Epoch [45/100], Loss: 0.0010, LR: 0.010000\n",
            "Epoch [46/100], Loss: 0.0009, LR: 0.010000\n",
            "Epoch [47/100], Loss: 0.0009, LR: 0.010000\n",
            "Epoch [48/100], Loss: 0.0008, LR: 0.010000\n",
            "Epoch [49/100], Loss: 0.0007, LR: 0.010000\n",
            "Epoch [50/100], Loss: 0.0006, LR: 0.010000\n",
            "Epoch [51/100], Loss: 0.0007, LR: 0.010000\n",
            "Epoch [52/100], Loss: 0.0006, LR: 0.010000\n",
            "Epoch [53/100], Loss: 0.0006, LR: 0.010000\n",
            "Epoch [54/100], Loss: 0.0005, LR: 0.010000\n",
            "Epoch [55/100], Loss: 0.0005, LR: 0.010000\n",
            "Epoch [56/100], Loss: 0.0005, LR: 0.010000\n",
            "Epoch [57/100], Loss: 0.0005, LR: 0.010000\n",
            "Epoch [58/100], Loss: 0.0004, LR: 0.010000\n",
            "Epoch [59/100], Loss: 0.0004, LR: 0.010000\n",
            "Epoch [60/100], Loss: 0.0004, LR: 0.001000\n",
            "Epoch [61/100], Loss: 0.0004, LR: 0.001000\n",
            "Epoch [62/100], Loss: 0.0004, LR: 0.001000\n",
            "Epoch [63/100], Loss: 0.0004, LR: 0.001000\n",
            "Epoch [64/100], Loss: 0.0003, LR: 0.001000\n",
            "Epoch [65/100], Loss: 0.0004, LR: 0.001000\n",
            "Epoch [66/100], Loss: 0.0004, LR: 0.001000\n",
            "Epoch [67/100], Loss: 0.0003, LR: 0.001000\n",
            "Epoch [68/100], Loss: 0.0004, LR: 0.001000\n",
            "Epoch [69/100], Loss: 0.0004, LR: 0.001000\n",
            "Epoch [70/100], Loss: 0.0003, LR: 0.001000\n",
            "Epoch [71/100], Loss: 0.0003, LR: 0.001000\n",
            "Epoch [72/100], Loss: 0.0003, LR: 0.001000\n",
            "Epoch [73/100], Loss: 0.0003, LR: 0.001000\n",
            "Epoch [74/100], Loss: 0.0004, LR: 0.001000\n",
            "Epoch [75/100], Loss: 0.0003, LR: 0.001000\n",
            "Epoch [76/100], Loss: 0.0003, LR: 0.001000\n",
            "Epoch [77/100], Loss: 0.0003, LR: 0.001000\n",
            "Epoch [78/100], Loss: 0.0003, LR: 0.001000\n",
            "Epoch [79/100], Loss: 0.0003, LR: 0.001000\n",
            "Epoch [80/100], Loss: 0.0003, LR: 0.001000\n",
            "Epoch [81/100], Loss: 0.0003, LR: 0.001000\n",
            "Epoch [82/100], Loss: 0.0003, LR: 0.001000\n",
            "Epoch [83/100], Loss: 0.0003, LR: 0.001000\n",
            "Epoch [84/100], Loss: 0.0003, LR: 0.001000\n",
            "Epoch [85/100], Loss: 0.0003, LR: 0.001000\n",
            "Epoch [86/100], Loss: 0.0003, LR: 0.001000\n",
            "Epoch [87/100], Loss: 0.0003, LR: 0.001000\n",
            "Epoch [88/100], Loss: 0.0003, LR: 0.001000\n",
            "Epoch [89/100], Loss: 0.0003, LR: 0.001000\n",
            "Epoch [90/100], Loss: 0.0003, LR: 0.000100\n",
            "Epoch [91/100], Loss: 0.0003, LR: 0.000100\n",
            "Epoch [92/100], Loss: 0.0004, LR: 0.000100\n",
            "Epoch [93/100], Loss: 0.0003, LR: 0.000100\n",
            "Epoch [94/100], Loss: 0.0003, LR: 0.000100\n",
            "Epoch [95/100], Loss: 0.0004, LR: 0.000100\n",
            "Epoch [96/100], Loss: 0.0003, LR: 0.000100\n",
            "Epoch [97/100], Loss: 0.0003, LR: 0.000100\n",
            "Epoch [98/100], Loss: 0.0003, LR: 0.000100\n",
            "Epoch [99/100], Loss: 0.0003, LR: 0.000100\n",
            "Epoch [100/100], Loss: 0.0003, LR: 0.000100\n"
          ]
        },
        {
          "output_type": "display_data",
          "data": {
            "text/plain": [
              "<Figure size 640x480 with 1 Axes>"
            ],
            "image/png": "[encoded data removed]"
          },
          "metadata": {}
        }
      ]
    },
    {
      "cell_type": "code",
      "source": [
        "model.eval()\n",
        "correct1, correct2, total = 0, 0, 0\n",
        "\n",
        "with torch.no_grad():\n",
        "    for images, (original_labels, aux_labels) in custom_testloader:\n",
        "        images = images.to(device)\n",
        "        original_labels = original_labels.to(device)\n",
        "        aux_labels = aux_labels.to(device)\n",
        "\n",
        "        outputs1, outputs2 = model(images)\n",
        "        _, predicted1 = torch.max(outputs1, 1)\n",
        "        _, predicted2 = torch.max(outputs2, 1)\n",
        "        total += original_labels.size(0)\n",
        "        correct1 += (predicted1 == original_labels).sum().item()\n",
        "        correct2 += (predicted2 == aux_labels).sum().item()\n",
        "\n",
        "accuracy1 = 100 * correct1 / total\n",
        "accuracy2 = 100 * correct2 / total\n",
        "print(f\"Accuracy on MNIST test set: {accuracy1:.2f}%\")\n",
        "print(f\"Accuracy on auxiliary test set: {accuracy2:.2f}%\")"
      ],
      "metadata": {
        "id": "I8UCfT0DSkt7",
        "colab": {
          "base_uri": "https://localhost:8080/"
        },
        "outputId": "61c52db7-73fc-4bdf-8c0b-43a729200048"
      },
      "execution_count": null,
      "outputs": [
        {
          "output_type": "stream",
          "name": "stdout",
          "text": [
            "Accuracy on MNIST test set: 99.53%\n",
            "Accuracy on auxiliary test set: 99.80%\n"
          ]
        }
      ]
    },
    {
      "cell_type": "code",
      "source": [
        "image, label = custom_testset[0]\n",
        "image = image.unsqueeze(0).to(device)\n",
        "\n",
        "model.eval()\n",
        "with torch.no_grad():\n",
        "    output1, output2 = model(image)\n",
        "    _, predicted1 = torch.max(output1, 1)\n",
        "    _, predicted2 = torch.max(output2, 1)\n",
        "    predicted = (predicted1, predicted2)"
      ],
      "metadata": {
        "id": "D7bOWPqUxQeM"
      },
      "execution_count": null,
      "outputs": []
    },
    {
      "cell_type": "code",
      "source": [
        "print(predicted)\n",
        "\n",
        "image = image.squeeze().to('cpu')\n",
        "\n",
        "plt.imshow(image, cmap='gray')\n",
        "plt.title(f\"Label: {label}\")\n",
        "plt.show()"
      ],
      "metadata": {
        "colab": {
          "base_uri": "https://localhost:8080/",
          "height": 469
        },
        "id": "MHdaHYgyxbKo",
        "outputId": "b0cf45ad-2a0f-4a0c-cdb9-e4d5108692e0"
      },
      "execution_count": null,
      "outputs": [
        {
          "output_type": "stream",
          "name": "stdout",
          "text": [
            "(tensor([7], device='cuda:0'), tensor([1], device='cuda:0'))\n"
          ]
        },
        {
          "output_type": "display_data",
          "data": {
            "text/plain": [
              "<Figure size 640x480 with 1 Axes>"
            ],
            "image/png": "[encoded data removed]"
          },
          "metadata": {}
        }
      ]
    },
    {
      "cell_type": "code",
      "source": [
        "# Lưu mô hình\n",
        "torch.save(model.state_dict(), \"resnet34_mnist.pth\")"
      ],
      "metadata": {
        "id": "yOXYIf9uipYi"
      },
      "execution_count": null,
      "outputs": []
    },
    {
      "cell_type": "code",
      "source": [],
      "metadata": {
        "id": "cZdxdCI2znl9"
      },
      "execution_count": null,
      "outputs": []
    }
  ]
}